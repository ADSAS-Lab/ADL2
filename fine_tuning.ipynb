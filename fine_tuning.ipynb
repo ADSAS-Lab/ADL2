{
 "cells": [
  {
   "cell_type": "code",
   "execution_count": 2,
   "metadata": {
    "ExecuteTime": {
     "start_time": "2023-04-13T02:55:56.247349Z",
     "end_time": "2023-04-13T02:55:56.250885Z"
    }
   },
   "outputs": [],
   "source": [
    "import torch, time, copy\n",
    "from torchvision import datasets, models, transforms\n",
    "from torch.utils.data import Dataset\n",
    "from torch import nn, optim\n",
    "from TransformDataset import TransformDataset"
   ]
  },
  {
   "cell_type": "code",
   "execution_count": 3,
   "metadata": {
    "ExecuteTime": {
     "start_time": "2023-04-13T02:55:57.556651Z",
     "end_time": "2023-04-13T02:55:57.800554Z"
    }
   },
   "outputs": [],
   "source": [
    "model = models.alexnet(weights=models.AlexNet_Weights.IMAGENET1K_V1)\n",
    "model = model.float()"
   ]
  },
  {
   "cell_type": "code",
   "execution_count": 4,
   "metadata": {
    "ExecuteTime": {
     "start_time": "2023-04-13T02:55:58.495942Z",
     "end_time": "2023-04-13T02:55:58.500655Z"
    }
   },
   "outputs": [],
   "source": [
    "# Number of classes in the dataset\n",
    "num_classes = 10\n",
    "\n",
    "# Batch size for training (change depending on how much memory you have)\n",
    "batch_size = 1024\n",
    "\n",
    "# Number of epochs to train for\n",
    "num_epochs = 15\n",
    "\n",
    "input_size = 224\n",
    "\n",
    "device = 'mps'"
   ]
  },
  {
   "cell_type": "code",
   "execution_count": 10,
   "metadata": {
    "ExecuteTime": {
     "start_time": "2023-04-13T02:58:21.558478Z",
     "end_time": "2023-04-13T02:58:21.566778Z"
    }
   },
   "outputs": [],
   "source": [
    "def train_model(model, dataloaders, criterion, optimizer, num_epochs=25):\n",
    "    since = time.time()\n",
    "\n",
    "    val_acc_history = []\n",
    "\n",
    "    best_model_wts = copy.deepcopy(model.state_dict())\n",
    "    best_acc = 0.0\n",
    "\n",
    "    for epoch in range(num_epochs):\n",
    "        print('Epoch {}/{}'.format(epoch, num_epochs - 1))\n",
    "        print('-' * 10)\n",
    "\n",
    "        # Each epoch has a training and validation phase\n",
    "        for phase in ['train', 'val']:\n",
    "            if phase == 'train':\n",
    "                model.train()  # Set model to training mode\n",
    "            else:\n",
    "                model.eval()   # Set model to evaluate mode\n",
    "\n",
    "            running_loss = 0.0\n",
    "            running_corrects = 0\n",
    "\n",
    "            # Iterate over data.\n",
    "            for inputs, labels in dataloaders[phase]:\n",
    "                inputs = inputs.to(device)\n",
    "                labels = labels.to(device)\n",
    "                # zero the parameter gradients\n",
    "                optimizer.zero_grad()\n",
    "\n",
    "                # forward\n",
    "                # track history if only in train\n",
    "                with torch.set_grad_enabled(phase == 'train'):\n",
    "                    # Get model outputs and calculate loss\n",
    "                    outputs = model(inputs)\n",
    "                    loss = criterion(outputs, labels)\n",
    "\n",
    "                    _, preds = torch.max(outputs, 1)\n",
    "\n",
    "                    # backward + optimize only if in training phase\n",
    "                    if phase == 'train':\n",
    "                        loss.backward()\n",
    "                        optimizer.step()\n",
    "\n",
    "                # statistics\n",
    "                running_loss += loss.item() * inputs.size(0)\n",
    "                running_corrects += torch.sum(preds == labels.data)\n",
    "\n",
    "            epoch_loss = running_loss / len(dataloaders[phase].dataset)\n",
    "            epoch_acc = running_corrects.float() / len(dataloaders[phase].dataset)\n",
    "\n",
    "            print('{} Loss: {:.4f} Acc: {:.4f}'.format(phase, epoch_loss, epoch_acc))\n",
    "\n",
    "            # deep copy the model\n",
    "            if phase == 'val' and epoch_acc > best_acc:\n",
    "                best_acc = epoch_acc\n",
    "                best_model_wts = copy.deepcopy(model.state_dict())\n",
    "            if phase == 'val':\n",
    "                val_acc_history.append(epoch_acc)\n",
    "\n",
    "        print()\n",
    "\n",
    "    time_elapsed = time.time() - since\n",
    "    print('Training complete in {:.0f}m {:.0f}s'.format(time_elapsed // 60, time_elapsed % 60))\n",
    "    print('Best val Acc: {:4f}'.format(best_acc))\n",
    "\n",
    "    # load best model weights\n",
    "    model.load_state_dict(best_model_wts)\n",
    "    return model, val_acc_history"
   ]
  },
  {
   "cell_type": "code",
   "execution_count": 11,
   "metadata": {
    "ExecuteTime": {
     "start_time": "2023-04-13T02:58:25.250920Z",
     "end_time": "2023-04-13T02:58:25.257672Z"
    }
   },
   "outputs": [],
   "source": [
    "model.classifier[6] = nn.Linear(model.classifier[6].in_features,num_classes)"
   ]
  },
  {
   "cell_type": "code",
   "execution_count": 12,
   "metadata": {
    "ExecuteTime": {
     "start_time": "2023-04-13T02:58:32.400774Z",
     "end_time": "2023-04-13T02:58:33.974904Z"
    }
   },
   "outputs": [
    {
     "name": "stdout",
     "output_type": "stream",
     "text": [
      "Initializing Datasets and Dataloaders...\n",
      "Files already downloaded and verified\n",
      "Files already downloaded and verified\n"
     ]
    }
   ],
   "source": [
    "# Data augmentation and normalization for training\n",
    "# Just normalization for validation\n",
    "data_transforms = {\n",
    "    'train': transforms.Compose([\n",
    "        transforms.RandomResizedCrop(input_size),\n",
    "        transforms.RandomHorizontalFlip(),\n",
    "        transforms.ToTensor(),\n",
    "        transforms.Normalize([0.485, 0.456, 0.406], [0.229, 0.224, 0.225])\n",
    "    ]),\n",
    "    'val': transforms.Compose([\n",
    "        transforms.Resize(input_size),\n",
    "        transforms.CenterCrop(input_size),\n",
    "        transforms.ToTensor(),\n",
    "        transforms.Normalize([0.485, 0.456, 0.406], [0.229, 0.224, 0.225])\n",
    "    ]),\n",
    "}\n",
    "\n",
    "print(\"Initializing Datasets and Dataloaders...\")\n",
    "\n",
    "cifar_train = datasets.CIFAR10('data', True, download=True)\n",
    "cifar_train, cifar_val = torch.utils.data.random_split(cifar_train, [40000, 10000])\n",
    "cifar_test = datasets.CIFAR10('data', False, data_transforms['val'], download=True)\n",
    "\n",
    "# Create training and validation datasets\n",
    "image_datasets = {\n",
    "    'train': TransformDataset(cifar_train, data_transforms['train']),\n",
    "    'val': TransformDataset(cifar_val, data_transforms['val']),\n",
    "    'test': cifar_test\n",
    "}\n",
    "\n",
    "# Create training and validation dataloaders\n",
    "dataloaders_dict = {\n",
    "    x: torch.utils.data.DataLoader(image_datasets[x], batch_size=batch_size, shuffle=True, num_workers=4)\n",
    "    for x in ['train', 'val', 'test']\n",
    "}"
   ]
  },
  {
   "cell_type": "code",
   "execution_count": 13,
   "metadata": {
    "ExecuteTime": {
     "start_time": "2023-04-13T02:58:34.661995Z",
     "end_time": "2023-04-13T02:58:34.666585Z"
    }
   },
   "outputs": [
    {
     "name": "stdout",
     "output_type": "stream",
     "text": [
      "Params to learn:\n",
      "\t features.0.weight\n",
      "\t features.0.bias\n",
      "\t features.3.weight\n",
      "\t features.3.bias\n",
      "\t features.6.weight\n",
      "\t features.6.bias\n",
      "\t features.8.weight\n",
      "\t features.8.bias\n",
      "\t features.10.weight\n",
      "\t features.10.bias\n",
      "\t classifier.1.weight\n",
      "\t classifier.1.bias\n",
      "\t classifier.4.weight\n",
      "\t classifier.4.bias\n",
      "\t classifier.6.weight\n",
      "\t classifier.6.bias\n"
     ]
    }
   ],
   "source": [
    "model = model.to(device)\n",
    "# Gather the parameters to be optimized/updated in this run. If we are\n",
    "#  finetuning we will be updating all parameters. However, if we are\n",
    "#  doing feature extract method, we will only update the parameters\n",
    "#  that we have just initialized, i.e. the parameters with requires_grad\n",
    "#  is True.\n",
    "params_to_update = model.parameters()\n",
    "print(\"Params to learn:\")\n",
    "for name,param in model.named_parameters():\n",
    "    if param.requires_grad == True:\n",
    "        print(\"\\t\",name)\n",
    "\n",
    "# Observe that all parameters are being optimized\n",
    "optimizer_ft = optim.SGD(params_to_update, lr=0.001, momentum=0.9)"
   ]
  },
  {
   "cell_type": "code",
   "execution_count": 14,
   "metadata": {
    "ExecuteTime": {
     "start_time": "2023-04-13T02:58:35.771946Z",
     "end_time": "2023-04-13T03:22:12.462361Z"
    }
   },
   "outputs": [
    {
     "name": "stdout",
     "output_type": "stream",
     "text": [
      "Epoch 0/14\n",
      "----------\n",
      "train Loss: 1.5006 Acc: 0.4605\n",
      "val Loss: 0.7972 Acc: 0.7241\n",
      "\n",
      "Epoch 1/14\n",
      "----------\n",
      "train Loss: 1.0799 Acc: 0.6162\n",
      "val Loss: 0.6558 Acc: 0.7771\n",
      "\n",
      "Epoch 2/14\n",
      "----------\n",
      "train Loss: 1.0059 Acc: 0.6432\n",
      "val Loss: 0.6066 Acc: 0.7895\n",
      "\n",
      "Epoch 3/14\n",
      "----------\n",
      "train Loss: 0.9569 Acc: 0.6618\n",
      "val Loss: 0.5745 Acc: 0.8005\n",
      "\n",
      "Epoch 4/14\n",
      "----------\n",
      "train Loss: 0.9289 Acc: 0.6717\n",
      "val Loss: 0.5376 Acc: 0.8152\n",
      "\n",
      "Epoch 5/14\n",
      "----------\n",
      "train Loss: 0.9065 Acc: 0.6794\n",
      "val Loss: 0.5053 Acc: 0.8243\n",
      "\n",
      "Epoch 6/14\n",
      "----------\n",
      "train Loss: 0.8873 Acc: 0.6865\n",
      "val Loss: 0.4916 Acc: 0.8301\n",
      "\n",
      "Epoch 7/14\n",
      "----------\n",
      "train Loss: 0.8836 Acc: 0.6873\n",
      "val Loss: 0.4913 Acc: 0.8297\n",
      "\n",
      "Epoch 8/14\n",
      "----------\n",
      "train Loss: 0.8564 Acc: 0.6974\n",
      "val Loss: 0.4729 Acc: 0.8384\n",
      "\n",
      "Epoch 9/14\n",
      "----------\n",
      "train Loss: 0.8460 Acc: 0.6995\n",
      "val Loss: 0.4574 Acc: 0.8399\n",
      "\n",
      "Epoch 10/14\n",
      "----------\n",
      "train Loss: 0.8397 Acc: 0.7029\n",
      "val Loss: 0.4446 Acc: 0.8420\n",
      "\n",
      "Epoch 11/14\n",
      "----------\n",
      "train Loss: 0.8276 Acc: 0.7075\n",
      "val Loss: 0.4375 Acc: 0.8481\n",
      "\n",
      "Epoch 12/14\n",
      "----------\n",
      "train Loss: 0.8087 Acc: 0.7148\n",
      "val Loss: 0.4271 Acc: 0.8512\n",
      "\n",
      "Epoch 13/14\n",
      "----------\n",
      "train Loss: 0.7997 Acc: 0.7156\n",
      "val Loss: 0.4160 Acc: 0.8546\n",
      "\n",
      "Epoch 14/14\n",
      "----------\n",
      "train Loss: 0.8051 Acc: 0.7168\n",
      "val Loss: 0.4221 Acc: 0.8519\n",
      "\n",
      "Training complete in 23m 37s\n",
      "Best val Acc: 0.854600\n"
     ]
    }
   ],
   "source": [
    "# Setup the loss fxn\n",
    "criterion = nn.CrossEntropyLoss()\n",
    "\n",
    "# Train and evaluate\n",
    "model, hist = train_model(model, dataloaders_dict, criterion, optimizer_ft, num_epochs=num_epochs)"
   ]
  },
  {
   "cell_type": "code",
   "execution_count": 17,
   "metadata": {
    "ExecuteTime": {
     "start_time": "2023-04-13T03:35:54.429307Z",
     "end_time": "2023-04-13T03:36:21.342554Z"
    }
   },
   "outputs": [
    {
     "name": "stdout",
     "output_type": "stream",
     "text": [
      "test Acc: 0.8592000603675842\n"
     ]
    }
   ],
   "source": [
    "correct = 0\n",
    "total = len(dataloaders_dict['test'].dataset)\n",
    "model.eval()\n",
    "\n",
    "# Iterate over data.\n",
    "for inputs, labels in dataloaders_dict['test']:\n",
    "    inputs = inputs.to(device)\n",
    "    labels = labels.to(device)\n",
    "\n",
    "    # track history if only in train\n",
    "    with torch.no_grad():\n",
    "        # Get model outputs and calculate loss\n",
    "        outputs = model(inputs)\n",
    "        _, preds = torch.max(outputs, 1)\n",
    "\n",
    "    # statistics\n",
    "    correct += torch.sum(preds == labels.data)\n",
    "\n",
    "print(f'test Acc: {correct.float()/total}')"
   ]
  }
 ],
 "metadata": {
  "kernelspec": {
   "display_name": "Python 3 (ipykernel)",
   "language": "python",
   "name": "python3"
  },
  "language_info": {
   "codemirror_mode": {
    "name": "ipython",
    "version": 3
   },
   "file_extension": ".py",
   "mimetype": "text/x-python",
   "name": "python",
   "nbconvert_exporter": "python",
   "pygments_lexer": "ipython3",
   "version": "3.9.0"
  }
 },
 "nbformat": 4,
 "nbformat_minor": 1
}
