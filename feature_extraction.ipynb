{
 "cells": [
  {
   "cell_type": "code",
   "execution_count": 1,
   "metadata": {
    "ExecuteTime": {
     "start_time": "2023-04-13T03:43:16.013928Z",
     "end_time": "2023-04-13T03:43:16.649562Z"
    }
   },
   "outputs": [],
   "source": [
    "import torch, time, copy\n",
    "from torchvision import datasets, models, transforms\n",
    "from torch.utils.data import Dataset\n",
    "from torch import nn, optim\n",
    "from TransformDataset import TransformDataset"
   ]
  },
  {
   "cell_type": "code",
   "execution_count": 2,
   "metadata": {
    "ExecuteTime": {
     "start_time": "2023-04-13T03:43:17.943203Z",
     "end_time": "2023-04-13T03:43:18.182255Z"
    }
   },
   "outputs": [],
   "source": [
    "model = models.alexnet(weights=models.AlexNet_Weights.IMAGENET1K_V1)\n",
    "for param in model.parameters():\n",
    "    param.requires_grad = False\n",
    "model = model.float()"
   ]
  },
  {
   "cell_type": "code",
   "execution_count": 3,
   "metadata": {
    "ExecuteTime": {
     "start_time": "2023-04-13T03:43:18.823839Z",
     "end_time": "2023-04-13T03:43:18.828831Z"
    }
   },
   "outputs": [],
   "source": [
    "# Number of classes in the dataset\n",
    "num_classes = 10\n",
    "\n",
    "# Batch size for training (change depending on how much memory you have)\n",
    "batch_size = 1024\n",
    "\n",
    "# Number of epochs to train for\n",
    "num_epochs = 15\n",
    "\n",
    "input_size = 224\n",
    "\n",
    "device = 'mps'"
   ]
  },
  {
   "cell_type": "code",
   "execution_count": 4,
   "metadata": {
    "ExecuteTime": {
     "start_time": "2023-04-13T03:43:19.917380Z",
     "end_time": "2023-04-13T03:43:19.920605Z"
    }
   },
   "outputs": [],
   "source": [
    "def train_model(model, dataloaders, criterion, optimizer, num_epochs=25):\n",
    "    since = time.time()\n",
    "\n",
    "    val_acc_history = []\n",
    "\n",
    "    best_model_wts = copy.deepcopy(model.state_dict())\n",
    "    best_acc = 0.0\n",
    "\n",
    "    for epoch in range(num_epochs):\n",
    "        print('Epoch {}/{}'.format(epoch, num_epochs - 1))\n",
    "        print('-' * 10)\n",
    "\n",
    "        # Each epoch has a training and validation phase\n",
    "        for phase in ['train', 'val']:\n",
    "            if phase == 'train':\n",
    "                model.train()  # Set model to training mode\n",
    "            else:\n",
    "                model.eval()   # Set model to evaluate mode\n",
    "\n",
    "            running_loss = 0.0\n",
    "            running_corrects = 0\n",
    "\n",
    "            # Iterate over data.\n",
    "            for inputs, labels in dataloaders[phase]:\n",
    "                inputs = inputs.to(device)\n",
    "                labels = labels.to(device)\n",
    "                # zero the parameter gradients\n",
    "                optimizer.zero_grad()\n",
    "\n",
    "                # forward\n",
    "                # track history if only in train\n",
    "                with torch.set_grad_enabled(phase == 'train'):\n",
    "                    # Get model outputs and calculate loss\n",
    "                    outputs = model(inputs)\n",
    "                    loss = criterion(outputs, labels)\n",
    "\n",
    "                    _, preds = torch.max(outputs, 1)\n",
    "\n",
    "                    # backward + optimize only if in training phase\n",
    "                    if phase == 'train':\n",
    "                        loss.backward()\n",
    "                        optimizer.step()\n",
    "\n",
    "                # statistics\n",
    "                running_loss += loss.item() * inputs.size(0)\n",
    "                running_corrects += torch.sum(preds == labels.data)\n",
    "\n",
    "            epoch_loss = running_loss / len(dataloaders[phase].dataset)\n",
    "            epoch_acc = running_corrects.float() / len(dataloaders[phase].dataset)\n",
    "\n",
    "            print('{} Loss: {:.4f} Acc: {:.4f}'.format(phase, epoch_loss, epoch_acc))\n",
    "\n",
    "            # deep copy the model\n",
    "            if phase == 'val' and epoch_acc > best_acc:\n",
    "                best_acc = epoch_acc\n",
    "                best_model_wts = copy.deepcopy(model.state_dict())\n",
    "            if phase == 'val':\n",
    "                val_acc_history.append(epoch_acc)\n",
    "\n",
    "        print()\n",
    "\n",
    "    time_elapsed = time.time() - since\n",
    "    print('Training complete in {:.0f}m {:.0f}s'.format(time_elapsed // 60, time_elapsed % 60))\n",
    "    print('Best val Acc: {:4f}'.format(best_acc))\n",
    "\n",
    "    # load best model weights\n",
    "    model.load_state_dict(best_model_wts)\n",
    "    return model, val_acc_history"
   ]
  },
  {
   "cell_type": "code",
   "execution_count": 5,
   "metadata": {
    "ExecuteTime": {
     "start_time": "2023-04-13T03:43:21.006561Z",
     "end_time": "2023-04-13T03:43:21.013853Z"
    }
   },
   "outputs": [],
   "source": [
    "model.classifier[6] = nn.Linear(model.classifier[6].in_features,num_classes)"
   ]
  },
  {
   "cell_type": "code",
   "execution_count": 6,
   "metadata": {
    "ExecuteTime": {
     "start_time": "2023-04-13T03:43:22.541016Z",
     "end_time": "2023-04-13T03:43:24.076336Z"
    }
   },
   "outputs": [
    {
     "name": "stdout",
     "output_type": "stream",
     "text": [
      "Initializing Datasets and Dataloaders...\n",
      "Files already downloaded and verified\n",
      "Files already downloaded and verified\n"
     ]
    }
   ],
   "source": [
    "# Data augmentation and normalization for training\n",
    "# Just normalization for validation\n",
    "data_transforms = {\n",
    "    'train': transforms.Compose([\n",
    "        transforms.RandomResizedCrop(input_size),\n",
    "        transforms.RandomHorizontalFlip(),\n",
    "        transforms.ToTensor(),\n",
    "        transforms.Normalize([0.485, 0.456, 0.406], [0.229, 0.224, 0.225])\n",
    "    ]),\n",
    "    'val': transforms.Compose([\n",
    "        transforms.Resize(input_size),\n",
    "        transforms.CenterCrop(input_size),\n",
    "        transforms.ToTensor(),\n",
    "        transforms.Normalize([0.485, 0.456, 0.406], [0.229, 0.224, 0.225])\n",
    "    ]),\n",
    "}\n",
    "\n",
    "print(\"Initializing Datasets and Dataloaders...\")\n",
    "\n",
    "cifar_train = datasets.CIFAR10('data', True, download=True)\n",
    "cifar_train, cifar_val = torch.utils.data.random_split(cifar_train, [40000, 10000])\n",
    "cifar_test = datasets.CIFAR10('data', False, data_transforms['val'], download=True)\n",
    "\n",
    "# Create training and validation datasets\n",
    "image_datasets = {\n",
    "    'train': TransformDataset(cifar_train, data_transforms['train']),\n",
    "    'val': TransformDataset(cifar_val, data_transforms['val']),\n",
    "    'test': cifar_test\n",
    "}\n",
    "\n",
    "# Create training and validation dataloaders\n",
    "dataloaders_dict = {\n",
    "    x: torch.utils.data.DataLoader(image_datasets[x], batch_size=batch_size, shuffle=True, num_workers=4)\n",
    "    for x in ['train', 'val', 'test']\n",
    "}"
   ]
  },
  {
   "cell_type": "code",
   "execution_count": 7,
   "metadata": {
    "ExecuteTime": {
     "start_time": "2023-04-13T03:43:26.344756Z",
     "end_time": "2023-04-13T03:43:26.425725Z"
    }
   },
   "outputs": [
    {
     "name": "stdout",
     "output_type": "stream",
     "text": [
      "Params to learn:\n",
      "\t classifier.6.weight\n",
      "\t classifier.6.bias\n"
     ]
    }
   ],
   "source": [
    "model = model.to(device)\n",
    "# Gather the parameters to be optimized/updated in this run. If we are\n",
    "#  finetuning we will be updating all parameters. However, if we are\n",
    "#  doing feature extract method, we will only update the parameters\n",
    "#  that we have just initialized, i.e. the parameters with requires_grad\n",
    "#  is True.\n",
    "print(\"Params to learn:\")\n",
    "params_to_update = []\n",
    "for name,param in model.named_parameters():\n",
    "    if param.requires_grad == True:\n",
    "        params_to_update.append(param)\n",
    "        print(\"\\t\",name)\n",
    "\n",
    "# Observe that all parameters are being optimized\n",
    "optimizer_ft = optim.SGD(params_to_update, lr=0.001, momentum=0.9)"
   ]
  },
  {
   "cell_type": "code",
   "execution_count": 8,
   "metadata": {
    "ExecuteTime": {
     "start_time": "2023-04-13T03:43:28.110404Z",
     "end_time": "2023-04-13T04:00:28.461415Z"
    }
   },
   "outputs": [
    {
     "name": "stdout",
     "output_type": "stream",
     "text": [
      "Epoch 0/14\n",
      "----------\n",
      "train Loss: 1.7661 Acc: 0.3744\n",
      "val Loss: 1.1031 Acc: 0.6278\n",
      "\n",
      "Epoch 1/14\n",
      "----------\n",
      "train Loss: 1.3328 Acc: 0.5301\n",
      "val Loss: 0.9316 Acc: 0.6810\n",
      "\n",
      "Epoch 2/14\n",
      "----------\n",
      "train Loss: 1.2582 Acc: 0.5520\n",
      "val Loss: 0.8537 Acc: 0.7044\n",
      "\n",
      "Epoch 3/14\n",
      "----------\n",
      "train Loss: 1.2178 Acc: 0.5671\n",
      "val Loss: 0.8109 Acc: 0.7226\n",
      "\n",
      "Epoch 4/14\n",
      "----------\n",
      "train Loss: 1.1917 Acc: 0.5752\n",
      "val Loss: 0.7898 Acc: 0.7259\n",
      "\n",
      "Epoch 5/14\n",
      "----------\n",
      "train Loss: 1.1720 Acc: 0.5832\n",
      "val Loss: 0.7684 Acc: 0.7367\n",
      "\n",
      "Epoch 6/14\n",
      "----------\n",
      "train Loss: 1.1646 Acc: 0.5876\n",
      "val Loss: 0.7532 Acc: 0.7411\n",
      "\n",
      "Epoch 7/14\n",
      "----------\n",
      "train Loss: 1.1457 Acc: 0.5931\n",
      "val Loss: 0.7331 Acc: 0.7464\n",
      "\n",
      "Epoch 8/14\n",
      "----------\n",
      "train Loss: 1.1392 Acc: 0.5967\n",
      "val Loss: 0.7257 Acc: 0.7499\n",
      "\n",
      "Epoch 9/14\n",
      "----------\n",
      "train Loss: 1.1375 Acc: 0.5951\n",
      "val Loss: 0.7143 Acc: 0.7547\n",
      "\n",
      "Epoch 10/14\n",
      "----------\n",
      "train Loss: 1.1231 Acc: 0.6016\n",
      "val Loss: 0.7078 Acc: 0.7573\n",
      "\n",
      "Epoch 11/14\n",
      "----------\n",
      "train Loss: 1.1212 Acc: 0.6038\n",
      "val Loss: 0.7013 Acc: 0.7581\n",
      "\n",
      "Epoch 12/14\n",
      "----------\n",
      "train Loss: 1.1120 Acc: 0.6060\n",
      "val Loss: 0.6870 Acc: 0.7652\n",
      "\n",
      "Epoch 13/14\n",
      "----------\n",
      "train Loss: 1.1110 Acc: 0.6052\n",
      "val Loss: 0.6876 Acc: 0.7637\n",
      "\n",
      "Epoch 14/14\n",
      "----------\n",
      "train Loss: 1.1096 Acc: 0.6037\n",
      "val Loss: 0.6871 Acc: 0.7629\n",
      "\n",
      "Training complete in 17m 0s\n",
      "Best val Acc: 0.765200\n"
     ]
    }
   ],
   "source": [
    "# Setup the loss fxn\n",
    "criterion = nn.CrossEntropyLoss()\n",
    "\n",
    "# Train and evaluate\n",
    "model, hist = train_model(model, dataloaders_dict, criterion, optimizer_ft, num_epochs=num_epochs)"
   ]
  },
  {
   "cell_type": "code",
   "execution_count": 9,
   "metadata": {
    "ExecuteTime": {
     "start_time": "2023-04-13T04:10:09.780952Z",
     "end_time": "2023-04-13T04:10:36.890928Z"
    }
   },
   "outputs": [
    {
     "name": "stdout",
     "output_type": "stream",
     "text": [
      "test Acc: 0.760200023651123\n"
     ]
    }
   ],
   "source": [
    "correct = 0\n",
    "total = len(dataloaders_dict['test'].dataset)\n",
    "model.eval()\n",
    "\n",
    "# Iterate over data.\n",
    "for inputs, labels in dataloaders_dict['test']:\n",
    "    inputs = inputs.to(device)\n",
    "    labels = labels.to(device)\n",
    "\n",
    "    # track history if only in train\n",
    "    with torch.no_grad():\n",
    "        # Get model outputs and calculate loss\n",
    "        outputs = model(inputs)\n",
    "        _, preds = torch.max(outputs, 1)\n",
    "\n",
    "    # statistics\n",
    "    correct += torch.sum(preds == labels.data)\n",
    "\n",
    "print(f'test Acc: {correct.float()/total}')"
   ]
  },
  {
   "cell_type": "code",
   "execution_count": null,
   "outputs": [],
   "source": [],
   "metadata": {
    "collapsed": false
   }
  }
 ],
 "metadata": {
  "kernelspec": {
   "display_name": "Python 3 (ipykernel)",
   "language": "python",
   "name": "python3"
  },
  "language_info": {
   "codemirror_mode": {
    "name": "ipython",
    "version": 3
   },
   "file_extension": ".py",
   "mimetype": "text/x-python",
   "name": "python",
   "nbconvert_exporter": "python",
   "pygments_lexer": "ipython3",
   "version": "3.9.0"
  }
 },
 "nbformat": 4,
 "nbformat_minor": 1
}
